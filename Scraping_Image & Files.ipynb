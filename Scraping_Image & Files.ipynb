{
  "nbformat": 4,
  "nbformat_minor": 0,
  "metadata": {
    "colab": {
      "provenance": [],
      "toc_visible": true
    },
    "kernelspec": {
      "name": "python3",
      "display_name": "Python 3"
    },
    "language_info": {
      "name": "python"
    }
  },
  "cells": [
    {
      "cell_type": "code",
      "execution_count": null,
      "metadata": {
        "id": "jtcpo_UqVyXJ"
      },
      "outputs": [],
      "source": [
        "import requests\n",
        "from bs4 import BeautifulSoup as bs"
      ]
    },
    {
      "cell_type": "code",
      "source": [
        "url='https://keithgalli.github.io/web-scraping/'"
      ],
      "metadata": {
        "id": "suBa51gMW3j4"
      },
      "execution_count": 100,
      "outputs": []
    },
    {
      "cell_type": "code",
      "source": [
        "r = requests.get(url+\"webpage.html\")\n",
        "\n",
        "# Convert to a beautiful soup object\n",
        "soup = bs(r.content)"
      ],
      "metadata": {
        "id": "cZe1FGrxW8Vk"
      },
      "execution_count": 101,
      "outputs": []
    },
    {
      "cell_type": "code",
      "source": [
        "table=soup.select(\"table.hockey-stats\")[0]"
      ],
      "metadata": {
        "id": "BfNT--ImXAuK"
      },
      "execution_count": 21,
      "outputs": []
    },
    {
      "cell_type": "code",
      "source": [
        "table"
      ],
      "metadata": {
        "colab": {
          "base_uri": "https://localhost:8080/"
        },
        "id": "HiZBN1koX1cO",
        "outputId": "af30a3f4-c00c-4daf-d96e-14276288489c"
      },
      "execution_count": 16,
      "outputs": [
        {
          "output_type": "execute_result",
          "data": {
            "text/plain": [
              "[<table class=\"hockey-stats\">\n",
              " <thead>\n",
              " <tr>\n",
              " <th class=\"season\" data-sort=\"\">S</th>\n",
              " <th class=\"team\" data-sort=\"team\">Team</th>\n",
              " <th class=\"league\" data-sort=\"league\">League</th>\n",
              " <th class=\"regular gp\" data-sort=\"gp\">GP</th>\n",
              " <th class=\"regular g\" data-sort=\"g\">G</th>\n",
              " <th class=\"regular a\" data-sort=\"a\">A</th>\n",
              " <th class=\"regular tp\" data-sort=\"tp\">TP</th>\n",
              " <th class=\"regular pim\" data-sort=\"pim\">PIM</th>\n",
              " <th class=\"regular pm\" data-sort=\"pm\">+/-</th>\n",
              " <th class=\"separator\"> </th>\n",
              " <th class=\"postseason\">POST</th>\n",
              " <th class=\"postseason gp\" data-sort=\"playoffs-gp\">GP</th>\n",
              " <th class=\"postseason g\" data-sort=\"playoffs-g\">G</th>\n",
              " <th class=\"postseason a\" data-sort=\"playoffs-a\">A</th>\n",
              " <th class=\"postseason tp\" data-sort=\"playoffs-tp\">TP</th>\n",
              " <th class=\"postseason pim\" data-sort=\"playoffs-pim\">PIM</th>\n",
              " <th class=\"postseason pm\" data-sort=\"playoffs-pm\">+/-</th>\n",
              " </tr>\n",
              " </thead>\n",
              " <tbody>\n",
              " <tr class=\"team-continent-NA \">\n",
              " <td class=\"season sorted\">\n",
              "                   2014-15\n",
              "               </td>\n",
              " <td class=\"team\">\n",
              " <i><img src=\"images/flag.png\"/></i>\n",
              " <span class=\"txt-blue\">\n",
              " <a href=\"https://www.eliteprospects.com/team/10263/mit-mass.-inst.-of-tech./2014-2015?tab=stats\"> MIT (Mass. Inst. of Tech.) </a>\n",
              " </span>\n",
              " </td>\n",
              " <td class=\"league\"> <a href=\"https://www.eliteprospects.com/league/acha-ii/stats/2014-2015\"> ACHA II </a> </td>\n",
              " <td class=\"regular gp\">17</td>\n",
              " <td class=\"regular g\">3</td>\n",
              " <td class=\"regular a\">9</td>\n",
              " <td class=\"regular tp\">12</td>\n",
              " <td class=\"regular pim\">20</td>\n",
              " <td class=\"regular pm\"></td>\n",
              " <td class=\"separator\"> | </td>\n",
              " <td class=\"postseason\">\n",
              " <a href=\"https://www.eliteprospects.com/league/acha-ii/stats/2014-2015\"> </a>\n",
              " </td>\n",
              " <td class=\"postseason gp\">\n",
              " </td>\n",
              " <td class=\"postseason g\">\n",
              " </td>\n",
              " <td class=\"postseason a\">\n",
              " </td>\n",
              " <td class=\"postseason tp\">\n",
              " </td>\n",
              " <td class=\"postseason pim\">\n",
              " </td>\n",
              " <td class=\"postseason pm\">\n",
              " </td>\n",
              " </tr>\n",
              " <tr class=\"team-continent-NA \">\n",
              " <td class=\"season sorted\">\n",
              "                   2015-16\n",
              "               </td>\n",
              " <td class=\"team\">\n",
              " <i><img src=\"images/flag.png\"/></i>\n",
              " <span class=\"txt-blue\">\n",
              " <a href=\"https://www.eliteprospects.com/team/10263/mit-mass.-inst.-of-tech./2015-2016?tab=stats\"> MIT (Mass. Inst. of Tech.) </a>\n",
              " </span>\n",
              " </td>\n",
              " <td class=\"league\"> <a href=\"https://www.eliteprospects.com/league/acha-ii/stats/2015-2016\"> ACHA II </a> </td>\n",
              " <td class=\"regular gp\">9</td>\n",
              " <td class=\"regular g\">1</td>\n",
              " <td class=\"regular a\">1</td>\n",
              " <td class=\"regular tp\">2</td>\n",
              " <td class=\"regular pim\">2</td>\n",
              " <td class=\"regular pm\"></td>\n",
              " <td class=\"separator\"> | </td>\n",
              " <td class=\"postseason\">\n",
              " <a href=\"https://www.eliteprospects.com/league/acha-ii/stats/2015-2016\"> </a>\n",
              " </td>\n",
              " <td class=\"postseason gp\">\n",
              " </td>\n",
              " <td class=\"postseason g\">\n",
              " </td>\n",
              " <td class=\"postseason a\">\n",
              " </td>\n",
              " <td class=\"postseason tp\">\n",
              " </td>\n",
              " <td class=\"postseason pim\">\n",
              " </td>\n",
              " <td class=\"postseason pm\">\n",
              " </td>\n",
              " </tr>\n",
              " <tr class=\"team-continent-NA \">\n",
              " <td class=\"season sorted\">\n",
              "                   2016-17\n",
              "               </td>\n",
              " <td class=\"team\">\n",
              " <i><img src=\"images/flag.png\"/></i>\n",
              " <span class=\"txt-blue\">\n",
              " <a href=\"https://www.eliteprospects.com/team/10263/mit-mass.-inst.-of-tech./2016-2017?tab=stats\"> MIT (Mass. Inst. of Tech.) </a>\n",
              " </span>\n",
              " </td>\n",
              " <td class=\"league\"> <a href=\"https://www.eliteprospects.com/league/acha-ii/stats/2016-2017\"> ACHA II </a> </td>\n",
              " <td class=\"regular gp\">12</td>\n",
              " <td class=\"regular g\">5</td>\n",
              " <td class=\"regular a\">5</td>\n",
              " <td class=\"regular tp\">10</td>\n",
              " <td class=\"regular pim\">8</td>\n",
              " <td class=\"regular pm\">0</td>\n",
              " <td class=\"separator\"> | </td>\n",
              " <td class=\"postseason\">\n",
              " </td>\n",
              " <td class=\"postseason gp\">\n",
              " </td>\n",
              " <td class=\"postseason g\">\n",
              " </td>\n",
              " <td class=\"postseason a\">\n",
              " </td>\n",
              " <td class=\"postseason tp\">\n",
              " </td>\n",
              " <td class=\"postseason pim\">\n",
              " </td>\n",
              " <td class=\"postseason pm\">\n",
              " </td>\n",
              " </tr>\n",
              " <tr class=\"team-continent-EU \">\n",
              " <td class=\"season sorted\">\n",
              "                   2017-18\n",
              "               </td>\n",
              " <td class=\"team\">\n",
              "                   Did not play\n",
              "               </td>\n",
              " <td class=\"league\"> <a href=\"https://www.eliteprospects.com/stats\"> </a> </td>\n",
              " <td class=\"regular gp\"></td>\n",
              " <td class=\"regular g\"></td>\n",
              " <td class=\"regular a\"></td>\n",
              " <td class=\"regular tp\"></td>\n",
              " <td class=\"regular pim\"></td>\n",
              " <td class=\"regular pm\"></td>\n",
              " <td class=\"separator\"> | </td>\n",
              " <td class=\"postseason\">\n",
              " <a href=\"https://www.eliteprospects.com/stats\"> </a>\n",
              " </td>\n",
              " <td class=\"postseason gp\">\n",
              " </td>\n",
              " <td class=\"postseason g\">\n",
              " </td>\n",
              " <td class=\"postseason a\">\n",
              " </td>\n",
              " <td class=\"postseason tp\">\n",
              " </td>\n",
              " <td class=\"postseason pim\">\n",
              " </td>\n",
              " <td class=\"postseason pm\">\n",
              " </td>\n",
              " </tr>\n",
              " <tr class=\"team-continent-NA \">\n",
              " <td class=\"season sorted\">\n",
              "                   2018-19\n",
              "               </td>\n",
              " <td class=\"team\">\n",
              " <i><img src=\"images/flag.png\"/></i>\n",
              " <span class=\"txt-blue\">\n",
              " <a href=\"https://www.eliteprospects.com/team/10263/mit-mass.-inst.-of-tech./2018-2019?tab=stats\"> MIT (Mass. Inst. of Tech.) </a>\n",
              " </span>\n",
              " </td>\n",
              " <td class=\"league\"> <a href=\"https://www.eliteprospects.com/league/acha-iii/stats/2018-2019\"> ACHA III </a> </td>\n",
              " <td class=\"regular gp\">8</td>\n",
              " <td class=\"regular g\">5</td>\n",
              " <td class=\"regular a\">10</td>\n",
              " <td class=\"regular tp\">15</td>\n",
              " <td class=\"regular pim\">8</td>\n",
              " <td class=\"regular pm\"></td>\n",
              " <td class=\"separator\"> | </td>\n",
              " <td class=\"postseason\">\n",
              " <a href=\"https://www.eliteprospects.com/league/acha-iii/stats/2018-2019\"> </a>\n",
              " </td>\n",
              " <td class=\"postseason gp\">\n",
              " </td>\n",
              " <td class=\"postseason g\">\n",
              " </td>\n",
              " <td class=\"postseason a\">\n",
              " </td>\n",
              " <td class=\"postseason tp\">\n",
              " </td>\n",
              " <td class=\"postseason pim\">\n",
              " </td>\n",
              " <td class=\"postseason pm\">\n",
              " </td>\n",
              " </tr>\n",
              " </tbody>\n",
              " </table>]"
            ]
          },
          "metadata": {},
          "execution_count": 16
        }
      ]
    },
    {
      "cell_type": "code",
      "source": [
        "table[0]"
      ],
      "metadata": {
        "id": "zZbCjr-9YECh",
        "colab": {
          "base_uri": "https://localhost:8080/"
        },
        "outputId": "f298c3e3-342e-49d6-f616-05a9dd88613c"
      },
      "execution_count": 13,
      "outputs": [
        {
          "output_type": "execute_result",
          "data": {
            "text/plain": [
              "<table class=\"hockey-stats\">\n",
              "<thead>\n",
              "<tr>\n",
              "<th class=\"season\" data-sort=\"\">S</th>\n",
              "<th class=\"team\" data-sort=\"team\">Team</th>\n",
              "<th class=\"league\" data-sort=\"league\">League</th>\n",
              "<th class=\"regular gp\" data-sort=\"gp\">GP</th>\n",
              "<th class=\"regular g\" data-sort=\"g\">G</th>\n",
              "<th class=\"regular a\" data-sort=\"a\">A</th>\n",
              "<th class=\"regular tp\" data-sort=\"tp\">TP</th>\n",
              "<th class=\"regular pim\" data-sort=\"pim\">PIM</th>\n",
              "<th class=\"regular pm\" data-sort=\"pm\">+/-</th>\n",
              "<th class=\"separator\"> </th>\n",
              "<th class=\"postseason\">POST</th>\n",
              "<th class=\"postseason gp\" data-sort=\"playoffs-gp\">GP</th>\n",
              "<th class=\"postseason g\" data-sort=\"playoffs-g\">G</th>\n",
              "<th class=\"postseason a\" data-sort=\"playoffs-a\">A</th>\n",
              "<th class=\"postseason tp\" data-sort=\"playoffs-tp\">TP</th>\n",
              "<th class=\"postseason pim\" data-sort=\"playoffs-pim\">PIM</th>\n",
              "<th class=\"postseason pm\" data-sort=\"playoffs-pm\">+/-</th>\n",
              "</tr>\n",
              "</thead>\n",
              "<tbody>\n",
              "<tr class=\"team-continent-NA \">\n",
              "<td class=\"season sorted\">\n",
              "                  2014-15\n",
              "              </td>\n",
              "<td class=\"team\">\n",
              "<i><img src=\"images/flag.png\"/></i>\n",
              "<span class=\"txt-blue\">\n",
              "<a href=\"https://www.eliteprospects.com/team/10263/mit-mass.-inst.-of-tech./2014-2015?tab=stats\"> MIT (Mass. Inst. of Tech.) </a>\n",
              "</span>\n",
              "</td>\n",
              "<td class=\"league\"> <a href=\"https://www.eliteprospects.com/league/acha-ii/stats/2014-2015\"> ACHA II </a> </td>\n",
              "<td class=\"regular gp\">17</td>\n",
              "<td class=\"regular g\">3</td>\n",
              "<td class=\"regular a\">9</td>\n",
              "<td class=\"regular tp\">12</td>\n",
              "<td class=\"regular pim\">20</td>\n",
              "<td class=\"regular pm\"></td>\n",
              "<td class=\"separator\"> | </td>\n",
              "<td class=\"postseason\">\n",
              "<a href=\"https://www.eliteprospects.com/league/acha-ii/stats/2014-2015\"> </a>\n",
              "</td>\n",
              "<td class=\"postseason gp\">\n",
              "</td>\n",
              "<td class=\"postseason g\">\n",
              "</td>\n",
              "<td class=\"postseason a\">\n",
              "</td>\n",
              "<td class=\"postseason tp\">\n",
              "</td>\n",
              "<td class=\"postseason pim\">\n",
              "</td>\n",
              "<td class=\"postseason pm\">\n",
              "</td>\n",
              "</tr>\n",
              "<tr class=\"team-continent-NA \">\n",
              "<td class=\"season sorted\">\n",
              "                  2015-16\n",
              "              </td>\n",
              "<td class=\"team\">\n",
              "<i><img src=\"images/flag.png\"/></i>\n",
              "<span class=\"txt-blue\">\n",
              "<a href=\"https://www.eliteprospects.com/team/10263/mit-mass.-inst.-of-tech./2015-2016?tab=stats\"> MIT (Mass. Inst. of Tech.) </a>\n",
              "</span>\n",
              "</td>\n",
              "<td class=\"league\"> <a href=\"https://www.eliteprospects.com/league/acha-ii/stats/2015-2016\"> ACHA II </a> </td>\n",
              "<td class=\"regular gp\">9</td>\n",
              "<td class=\"regular g\">1</td>\n",
              "<td class=\"regular a\">1</td>\n",
              "<td class=\"regular tp\">2</td>\n",
              "<td class=\"regular pim\">2</td>\n",
              "<td class=\"regular pm\"></td>\n",
              "<td class=\"separator\"> | </td>\n",
              "<td class=\"postseason\">\n",
              "<a href=\"https://www.eliteprospects.com/league/acha-ii/stats/2015-2016\"> </a>\n",
              "</td>\n",
              "<td class=\"postseason gp\">\n",
              "</td>\n",
              "<td class=\"postseason g\">\n",
              "</td>\n",
              "<td class=\"postseason a\">\n",
              "</td>\n",
              "<td class=\"postseason tp\">\n",
              "</td>\n",
              "<td class=\"postseason pim\">\n",
              "</td>\n",
              "<td class=\"postseason pm\">\n",
              "</td>\n",
              "</tr>\n",
              "<tr class=\"team-continent-NA \">\n",
              "<td class=\"season sorted\">\n",
              "                  2016-17\n",
              "              </td>\n",
              "<td class=\"team\">\n",
              "<i><img src=\"images/flag.png\"/></i>\n",
              "<span class=\"txt-blue\">\n",
              "<a href=\"https://www.eliteprospects.com/team/10263/mit-mass.-inst.-of-tech./2016-2017?tab=stats\"> MIT (Mass. Inst. of Tech.) </a>\n",
              "</span>\n",
              "</td>\n",
              "<td class=\"league\"> <a href=\"https://www.eliteprospects.com/league/acha-ii/stats/2016-2017\"> ACHA II </a> </td>\n",
              "<td class=\"regular gp\">12</td>\n",
              "<td class=\"regular g\">5</td>\n",
              "<td class=\"regular a\">5</td>\n",
              "<td class=\"regular tp\">10</td>\n",
              "<td class=\"regular pim\">8</td>\n",
              "<td class=\"regular pm\">0</td>\n",
              "<td class=\"separator\"> | </td>\n",
              "<td class=\"postseason\">\n",
              "</td>\n",
              "<td class=\"postseason gp\">\n",
              "</td>\n",
              "<td class=\"postseason g\">\n",
              "</td>\n",
              "<td class=\"postseason a\">\n",
              "</td>\n",
              "<td class=\"postseason tp\">\n",
              "</td>\n",
              "<td class=\"postseason pim\">\n",
              "</td>\n",
              "<td class=\"postseason pm\">\n",
              "</td>\n",
              "</tr>\n",
              "<tr class=\"team-continent-EU \">\n",
              "<td class=\"season sorted\">\n",
              "                  2017-18\n",
              "              </td>\n",
              "<td class=\"team\">\n",
              "                  Did not play\n",
              "              </td>\n",
              "<td class=\"league\"> <a href=\"https://www.eliteprospects.com/stats\"> </a> </td>\n",
              "<td class=\"regular gp\"></td>\n",
              "<td class=\"regular g\"></td>\n",
              "<td class=\"regular a\"></td>\n",
              "<td class=\"regular tp\"></td>\n",
              "<td class=\"regular pim\"></td>\n",
              "<td class=\"regular pm\"></td>\n",
              "<td class=\"separator\"> | </td>\n",
              "<td class=\"postseason\">\n",
              "<a href=\"https://www.eliteprospects.com/stats\"> </a>\n",
              "</td>\n",
              "<td class=\"postseason gp\">\n",
              "</td>\n",
              "<td class=\"postseason g\">\n",
              "</td>\n",
              "<td class=\"postseason a\">\n",
              "</td>\n",
              "<td class=\"postseason tp\">\n",
              "</td>\n",
              "<td class=\"postseason pim\">\n",
              "</td>\n",
              "<td class=\"postseason pm\">\n",
              "</td>\n",
              "</tr>\n",
              "<tr class=\"team-continent-NA \">\n",
              "<td class=\"season sorted\">\n",
              "                  2018-19\n",
              "              </td>\n",
              "<td class=\"team\">\n",
              "<i><img src=\"images/flag.png\"/></i>\n",
              "<span class=\"txt-blue\">\n",
              "<a href=\"https://www.eliteprospects.com/team/10263/mit-mass.-inst.-of-tech./2018-2019?tab=stats\"> MIT (Mass. Inst. of Tech.) </a>\n",
              "</span>\n",
              "</td>\n",
              "<td class=\"league\"> <a href=\"https://www.eliteprospects.com/league/acha-iii/stats/2018-2019\"> ACHA III </a> </td>\n",
              "<td class=\"regular gp\">8</td>\n",
              "<td class=\"regular g\">5</td>\n",
              "<td class=\"regular a\">10</td>\n",
              "<td class=\"regular tp\">15</td>\n",
              "<td class=\"regular pim\">8</td>\n",
              "<td class=\"regular pm\"></td>\n",
              "<td class=\"separator\"> | </td>\n",
              "<td class=\"postseason\">\n",
              "<a href=\"https://www.eliteprospects.com/league/acha-iii/stats/2018-2019\"> </a>\n",
              "</td>\n",
              "<td class=\"postseason gp\">\n",
              "</td>\n",
              "<td class=\"postseason g\">\n",
              "</td>\n",
              "<td class=\"postseason a\">\n",
              "</td>\n",
              "<td class=\"postseason tp\">\n",
              "</td>\n",
              "<td class=\"postseason pim\">\n",
              "</td>\n",
              "<td class=\"postseason pm\">\n",
              "</td>\n",
              "</tr>\n",
              "</tbody>\n",
              "</table>"
            ]
          },
          "metadata": {},
          "execution_count": 13
        }
      ]
    },
    {
      "cell_type": "code",
      "source": [
        "columns=table.find(\"thead\").find_all(\"th\")"
      ],
      "metadata": {
        "id": "Th4NbQdhbMsi"
      },
      "execution_count": 22,
      "outputs": []
    },
    {
      "cell_type": "code",
      "source": [
        "column_names=[c.string for c in columns] "
      ],
      "metadata": {
        "id": "tYWJ7D8nc2MQ"
      },
      "execution_count": 24,
      "outputs": []
    },
    {
      "cell_type": "code",
      "source": [
        "table_rows=table.find(\"tbody\").find_all(\"tr\")"
      ],
      "metadata": {
        "id": "vye5y80Qdj3i"
      },
      "execution_count": 27,
      "outputs": []
    },
    {
      "cell_type": "code",
      "source": [
        "rows"
      ],
      "metadata": {
        "colab": {
          "base_uri": "https://localhost:8080/"
        },
        "id": "OOyQX583iN62",
        "outputId": "13033b03-7f9a-4d8b-dead-64b8a9c9e76f"
      },
      "execution_count": 26,
      "outputs": [
        {
          "output_type": "execute_result",
          "data": {
            "text/plain": [
              "[<tr class=\"team-continent-NA \">\n",
              " <td class=\"season sorted\">\n",
              "                   2014-15\n",
              "               </td>\n",
              " <td class=\"team\">\n",
              " <i><img src=\"images/flag.png\"/></i>\n",
              " <span class=\"txt-blue\">\n",
              " <a href=\"https://www.eliteprospects.com/team/10263/mit-mass.-inst.-of-tech./2014-2015?tab=stats\"> MIT (Mass. Inst. of Tech.) </a>\n",
              " </span>\n",
              " </td>\n",
              " <td class=\"league\"> <a href=\"https://www.eliteprospects.com/league/acha-ii/stats/2014-2015\"> ACHA II </a> </td>\n",
              " <td class=\"regular gp\">17</td>\n",
              " <td class=\"regular g\">3</td>\n",
              " <td class=\"regular a\">9</td>\n",
              " <td class=\"regular tp\">12</td>\n",
              " <td class=\"regular pim\">20</td>\n",
              " <td class=\"regular pm\"></td>\n",
              " <td class=\"separator\"> | </td>\n",
              " <td class=\"postseason\">\n",
              " <a href=\"https://www.eliteprospects.com/league/acha-ii/stats/2014-2015\"> </a>\n",
              " </td>\n",
              " <td class=\"postseason gp\">\n",
              " </td>\n",
              " <td class=\"postseason g\">\n",
              " </td>\n",
              " <td class=\"postseason a\">\n",
              " </td>\n",
              " <td class=\"postseason tp\">\n",
              " </td>\n",
              " <td class=\"postseason pim\">\n",
              " </td>\n",
              " <td class=\"postseason pm\">\n",
              " </td>\n",
              " </tr>, <tr class=\"team-continent-NA \">\n",
              " <td class=\"season sorted\">\n",
              "                   2015-16\n",
              "               </td>\n",
              " <td class=\"team\">\n",
              " <i><img src=\"images/flag.png\"/></i>\n",
              " <span class=\"txt-blue\">\n",
              " <a href=\"https://www.eliteprospects.com/team/10263/mit-mass.-inst.-of-tech./2015-2016?tab=stats\"> MIT (Mass. Inst. of Tech.) </a>\n",
              " </span>\n",
              " </td>\n",
              " <td class=\"league\"> <a href=\"https://www.eliteprospects.com/league/acha-ii/stats/2015-2016\"> ACHA II </a> </td>\n",
              " <td class=\"regular gp\">9</td>\n",
              " <td class=\"regular g\">1</td>\n",
              " <td class=\"regular a\">1</td>\n",
              " <td class=\"regular tp\">2</td>\n",
              " <td class=\"regular pim\">2</td>\n",
              " <td class=\"regular pm\"></td>\n",
              " <td class=\"separator\"> | </td>\n",
              " <td class=\"postseason\">\n",
              " <a href=\"https://www.eliteprospects.com/league/acha-ii/stats/2015-2016\"> </a>\n",
              " </td>\n",
              " <td class=\"postseason gp\">\n",
              " </td>\n",
              " <td class=\"postseason g\">\n",
              " </td>\n",
              " <td class=\"postseason a\">\n",
              " </td>\n",
              " <td class=\"postseason tp\">\n",
              " </td>\n",
              " <td class=\"postseason pim\">\n",
              " </td>\n",
              " <td class=\"postseason pm\">\n",
              " </td>\n",
              " </tr>, <tr class=\"team-continent-NA \">\n",
              " <td class=\"season sorted\">\n",
              "                   2016-17\n",
              "               </td>\n",
              " <td class=\"team\">\n",
              " <i><img src=\"images/flag.png\"/></i>\n",
              " <span class=\"txt-blue\">\n",
              " <a href=\"https://www.eliteprospects.com/team/10263/mit-mass.-inst.-of-tech./2016-2017?tab=stats\"> MIT (Mass. Inst. of Tech.) </a>\n",
              " </span>\n",
              " </td>\n",
              " <td class=\"league\"> <a href=\"https://www.eliteprospects.com/league/acha-ii/stats/2016-2017\"> ACHA II </a> </td>\n",
              " <td class=\"regular gp\">12</td>\n",
              " <td class=\"regular g\">5</td>\n",
              " <td class=\"regular a\">5</td>\n",
              " <td class=\"regular tp\">10</td>\n",
              " <td class=\"regular pim\">8</td>\n",
              " <td class=\"regular pm\">0</td>\n",
              " <td class=\"separator\"> | </td>\n",
              " <td class=\"postseason\">\n",
              " </td>\n",
              " <td class=\"postseason gp\">\n",
              " </td>\n",
              " <td class=\"postseason g\">\n",
              " </td>\n",
              " <td class=\"postseason a\">\n",
              " </td>\n",
              " <td class=\"postseason tp\">\n",
              " </td>\n",
              " <td class=\"postseason pim\">\n",
              " </td>\n",
              " <td class=\"postseason pm\">\n",
              " </td>\n",
              " </tr>, <tr class=\"team-continent-EU \">\n",
              " <td class=\"season sorted\">\n",
              "                   2017-18\n",
              "               </td>\n",
              " <td class=\"team\">\n",
              "                   Did not play\n",
              "               </td>\n",
              " <td class=\"league\"> <a href=\"https://www.eliteprospects.com/stats\"> </a> </td>\n",
              " <td class=\"regular gp\"></td>\n",
              " <td class=\"regular g\"></td>\n",
              " <td class=\"regular a\"></td>\n",
              " <td class=\"regular tp\"></td>\n",
              " <td class=\"regular pim\"></td>\n",
              " <td class=\"regular pm\"></td>\n",
              " <td class=\"separator\"> | </td>\n",
              " <td class=\"postseason\">\n",
              " <a href=\"https://www.eliteprospects.com/stats\"> </a>\n",
              " </td>\n",
              " <td class=\"postseason gp\">\n",
              " </td>\n",
              " <td class=\"postseason g\">\n",
              " </td>\n",
              " <td class=\"postseason a\">\n",
              " </td>\n",
              " <td class=\"postseason tp\">\n",
              " </td>\n",
              " <td class=\"postseason pim\">\n",
              " </td>\n",
              " <td class=\"postseason pm\">\n",
              " </td>\n",
              " </tr>, <tr class=\"team-continent-NA \">\n",
              " <td class=\"season sorted\">\n",
              "                   2018-19\n",
              "               </td>\n",
              " <td class=\"team\">\n",
              " <i><img src=\"images/flag.png\"/></i>\n",
              " <span class=\"txt-blue\">\n",
              " <a href=\"https://www.eliteprospects.com/team/10263/mit-mass.-inst.-of-tech./2018-2019?tab=stats\"> MIT (Mass. Inst. of Tech.) </a>\n",
              " </span>\n",
              " </td>\n",
              " <td class=\"league\"> <a href=\"https://www.eliteprospects.com/league/acha-iii/stats/2018-2019\"> ACHA III </a> </td>\n",
              " <td class=\"regular gp\">8</td>\n",
              " <td class=\"regular g\">5</td>\n",
              " <td class=\"regular a\">10</td>\n",
              " <td class=\"regular tp\">15</td>\n",
              " <td class=\"regular pim\">8</td>\n",
              " <td class=\"regular pm\"></td>\n",
              " <td class=\"separator\"> | </td>\n",
              " <td class=\"postseason\">\n",
              " <a href=\"https://www.eliteprospects.com/league/acha-iii/stats/2018-2019\"> </a>\n",
              " </td>\n",
              " <td class=\"postseason gp\">\n",
              " </td>\n",
              " <td class=\"postseason g\">\n",
              " </td>\n",
              " <td class=\"postseason a\">\n",
              " </td>\n",
              " <td class=\"postseason tp\">\n",
              " </td>\n",
              " <td class=\"postseason pim\">\n",
              " </td>\n",
              " <td class=\"postseason pm\">\n",
              " </td>\n",
              " </tr>]"
            ]
          },
          "metadata": {},
          "execution_count": 26
        }
      ]
    },
    {
      "cell_type": "code",
      "source": [
        "l=[]\n",
        "for tr in table_rows:\n",
        "  td=tr.find_all('td')\n",
        "  row=[]"
      ],
      "metadata": {
        "id": "Sy8NjjbziPSZ"
      },
      "execution_count": null,
      "outputs": []
    },
    {
      "cell_type": "code",
      "source": [
        "td=table_rows[0].find_all('td')"
      ],
      "metadata": {
        "id": "6MbJq-S9kh2J"
      },
      "execution_count": 33,
      "outputs": []
    },
    {
      "cell_type": "code",
      "source": [
        "td[0].string"
      ],
      "metadata": {
        "colab": {
          "base_uri": "https://localhost:8080/",
          "height": 35
        },
        "id": "pmwMEYARknj9",
        "outputId": "3f7e06d6-d409-45bf-abeb-135880c632d1"
      },
      "execution_count": 36,
      "outputs": [
        {
          "output_type": "execute_result",
          "data": {
            "text/plain": [
              "'\\n                  2014-15\\n              '"
            ],
            "application/vnd.google.colaboratory.intrinsic+json": {
              "type": "string"
            }
          },
          "metadata": {},
          "execution_count": 36
        }
      ]
    },
    {
      "cell_type": "code",
      "source": [
        "l=[]\n",
        "for tr in table_rows:\n",
        "  td=tr.find_all('td')\n",
        "  rows=[str(tr.get_text()).strip() for tr in td]\n",
        "  l.append(rows)\n"
      ],
      "metadata": {
        "id": "lRj0CnG9l-Cv"
      },
      "execution_count": 47,
      "outputs": []
    },
    {
      "cell_type": "code",
      "source": [
        "l[0]"
      ],
      "metadata": {
        "colab": {
          "base_uri": "https://localhost:8080/"
        },
        "id": "lwc2_9a0nSkB",
        "outputId": "4920e8bc-f7b3-4363-8cd1-35a6b27ec631"
      },
      "execution_count": 48,
      "outputs": [
        {
          "output_type": "execute_result",
          "data": {
            "text/plain": [
              "['2014-15',\n",
              " 'MIT (Mass. Inst. of Tech.)',\n",
              " 'ACHA II',\n",
              " '17',\n",
              " '3',\n",
              " '9',\n",
              " '12',\n",
              " '20',\n",
              " '',\n",
              " '|',\n",
              " '',\n",
              " '',\n",
              " '',\n",
              " '',\n",
              " '',\n",
              " '',\n",
              " '']"
            ]
          },
          "metadata": {},
          "execution_count": 48
        }
      ]
    },
    {
      "cell_type": "code",
      "source": [
        "import pandas as pd"
      ],
      "metadata": {
        "id": "nbCIrT4nnUDq"
      },
      "execution_count": 49,
      "outputs": []
    },
    {
      "cell_type": "code",
      "source": [
        "df=pd.DataFrame(l,columns=column_names)\n",
        "df.head()"
      ],
      "metadata": {
        "colab": {
          "base_uri": "https://localhost:8080/",
          "height": 475
        },
        "id": "ljB1XY0tqHvQ",
        "outputId": "1590f58d-07ba-42bc-f3f2-d48cc1915596"
      },
      "execution_count": 50,
      "outputs": [
        {
          "output_type": "execute_result",
          "data": {
            "text/plain": [
              "         S                        Team    League  GP  G   A  TP PIM +/-     \\\n",
              "0  2014-15  MIT (Mass. Inst. of Tech.)   ACHA II  17  3   9  12  20      |   \n",
              "1  2015-16  MIT (Mass. Inst. of Tech.)   ACHA II   9  1   1   2   2      |   \n",
              "2  2016-17  MIT (Mass. Inst. of Tech.)   ACHA II  12  5   5  10   8   0  |   \n",
              "3  2017-18                Did not play                                   |   \n",
              "4  2018-19  MIT (Mass. Inst. of Tech.)  ACHA III   8  5  10  15   8      |   \n",
              "\n",
              "  POST GP G A TP PIM +/-  \n",
              "0                         \n",
              "1                         \n",
              "2                         \n",
              "3                         \n",
              "4                         "
            ],
            "text/html": [
              "\n",
              "  <div id=\"df-2a4fc73c-ec9c-46e9-9b1c-e9b93a4d8d90\">\n",
              "    <div class=\"colab-df-container\">\n",
              "      <div>\n",
              "<style scoped>\n",
              "    .dataframe tbody tr th:only-of-type {\n",
              "        vertical-align: middle;\n",
              "    }\n",
              "\n",
              "    .dataframe tbody tr th {\n",
              "        vertical-align: top;\n",
              "    }\n",
              "\n",
              "    .dataframe thead th {\n",
              "        text-align: right;\n",
              "    }\n",
              "</style>\n",
              "<table border=\"1\" class=\"dataframe\">\n",
              "  <thead>\n",
              "    <tr style=\"text-align: right;\">\n",
              "      <th></th>\n",
              "      <th>S</th>\n",
              "      <th>Team</th>\n",
              "      <th>League</th>\n",
              "      <th>GP</th>\n",
              "      <th>G</th>\n",
              "      <th>A</th>\n",
              "      <th>TP</th>\n",
              "      <th>PIM</th>\n",
              "      <th>+/-</th>\n",
              "      <th></th>\n",
              "      <th>POST</th>\n",
              "      <th>GP</th>\n",
              "      <th>G</th>\n",
              "      <th>A</th>\n",
              "      <th>TP</th>\n",
              "      <th>PIM</th>\n",
              "      <th>+/-</th>\n",
              "    </tr>\n",
              "  </thead>\n",
              "  <tbody>\n",
              "    <tr>\n",
              "      <th>0</th>\n",
              "      <td>2014-15</td>\n",
              "      <td>MIT (Mass. Inst. of Tech.)</td>\n",
              "      <td>ACHA II</td>\n",
              "      <td>17</td>\n",
              "      <td>3</td>\n",
              "      <td>9</td>\n",
              "      <td>12</td>\n",
              "      <td>20</td>\n",
              "      <td></td>\n",
              "      <td>|</td>\n",
              "      <td></td>\n",
              "      <td></td>\n",
              "      <td></td>\n",
              "      <td></td>\n",
              "      <td></td>\n",
              "      <td></td>\n",
              "      <td></td>\n",
              "    </tr>\n",
              "    <tr>\n",
              "      <th>1</th>\n",
              "      <td>2015-16</td>\n",
              "      <td>MIT (Mass. Inst. of Tech.)</td>\n",
              "      <td>ACHA II</td>\n",
              "      <td>9</td>\n",
              "      <td>1</td>\n",
              "      <td>1</td>\n",
              "      <td>2</td>\n",
              "      <td>2</td>\n",
              "      <td></td>\n",
              "      <td>|</td>\n",
              "      <td></td>\n",
              "      <td></td>\n",
              "      <td></td>\n",
              "      <td></td>\n",
              "      <td></td>\n",
              "      <td></td>\n",
              "      <td></td>\n",
              "    </tr>\n",
              "    <tr>\n",
              "      <th>2</th>\n",
              "      <td>2016-17</td>\n",
              "      <td>MIT (Mass. Inst. of Tech.)</td>\n",
              "      <td>ACHA II</td>\n",
              "      <td>12</td>\n",
              "      <td>5</td>\n",
              "      <td>5</td>\n",
              "      <td>10</td>\n",
              "      <td>8</td>\n",
              "      <td>0</td>\n",
              "      <td>|</td>\n",
              "      <td></td>\n",
              "      <td></td>\n",
              "      <td></td>\n",
              "      <td></td>\n",
              "      <td></td>\n",
              "      <td></td>\n",
              "      <td></td>\n",
              "    </tr>\n",
              "    <tr>\n",
              "      <th>3</th>\n",
              "      <td>2017-18</td>\n",
              "      <td>Did not play</td>\n",
              "      <td></td>\n",
              "      <td></td>\n",
              "      <td></td>\n",
              "      <td></td>\n",
              "      <td></td>\n",
              "      <td></td>\n",
              "      <td></td>\n",
              "      <td>|</td>\n",
              "      <td></td>\n",
              "      <td></td>\n",
              "      <td></td>\n",
              "      <td></td>\n",
              "      <td></td>\n",
              "      <td></td>\n",
              "      <td></td>\n",
              "    </tr>\n",
              "    <tr>\n",
              "      <th>4</th>\n",
              "      <td>2018-19</td>\n",
              "      <td>MIT (Mass. Inst. of Tech.)</td>\n",
              "      <td>ACHA III</td>\n",
              "      <td>8</td>\n",
              "      <td>5</td>\n",
              "      <td>10</td>\n",
              "      <td>15</td>\n",
              "      <td>8</td>\n",
              "      <td></td>\n",
              "      <td>|</td>\n",
              "      <td></td>\n",
              "      <td></td>\n",
              "      <td></td>\n",
              "      <td></td>\n",
              "      <td></td>\n",
              "      <td></td>\n",
              "      <td></td>\n",
              "    </tr>\n",
              "  </tbody>\n",
              "</table>\n",
              "</div>\n",
              "      <button class=\"colab-df-convert\" onclick=\"convertToInteractive('df-2a4fc73c-ec9c-46e9-9b1c-e9b93a4d8d90')\"\n",
              "              title=\"Convert this dataframe to an interactive table.\"\n",
              "              style=\"display:none;\">\n",
              "        \n",
              "  <svg xmlns=\"http://www.w3.org/2000/svg\" height=\"24px\"viewBox=\"0 0 24 24\"\n",
              "       width=\"24px\">\n",
              "    <path d=\"M0 0h24v24H0V0z\" fill=\"none\"/>\n",
              "    <path d=\"M18.56 5.44l.94 2.06.94-2.06 2.06-.94-2.06-.94-.94-2.06-.94 2.06-2.06.94zm-11 1L8.5 8.5l.94-2.06 2.06-.94-2.06-.94L8.5 2.5l-.94 2.06-2.06.94zm10 10l.94 2.06.94-2.06 2.06-.94-2.06-.94-.94-2.06-.94 2.06-2.06.94z\"/><path d=\"M17.41 7.96l-1.37-1.37c-.4-.4-.92-.59-1.43-.59-.52 0-1.04.2-1.43.59L10.3 9.45l-7.72 7.72c-.78.78-.78 2.05 0 2.83L4 21.41c.39.39.9.59 1.41.59.51 0 1.02-.2 1.41-.59l7.78-7.78 2.81-2.81c.8-.78.8-2.07 0-2.86zM5.41 20L4 18.59l7.72-7.72 1.47 1.35L5.41 20z\"/>\n",
              "  </svg>\n",
              "      </button>\n",
              "      \n",
              "  <style>\n",
              "    .colab-df-container {\n",
              "      display:flex;\n",
              "      flex-wrap:wrap;\n",
              "      gap: 12px;\n",
              "    }\n",
              "\n",
              "    .colab-df-convert {\n",
              "      background-color: #E8F0FE;\n",
              "      border: none;\n",
              "      border-radius: 50%;\n",
              "      cursor: pointer;\n",
              "      display: none;\n",
              "      fill: #1967D2;\n",
              "      height: 32px;\n",
              "      padding: 0 0 0 0;\n",
              "      width: 32px;\n",
              "    }\n",
              "\n",
              "    .colab-df-convert:hover {\n",
              "      background-color: #E2EBFA;\n",
              "      box-shadow: 0px 1px 2px rgba(60, 64, 67, 0.3), 0px 1px 3px 1px rgba(60, 64, 67, 0.15);\n",
              "      fill: #174EA6;\n",
              "    }\n",
              "\n",
              "    [theme=dark] .colab-df-convert {\n",
              "      background-color: #3B4455;\n",
              "      fill: #D2E3FC;\n",
              "    }\n",
              "\n",
              "    [theme=dark] .colab-df-convert:hover {\n",
              "      background-color: #434B5C;\n",
              "      box-shadow: 0px 1px 3px 1px rgba(0, 0, 0, 0.15);\n",
              "      filter: drop-shadow(0px 1px 2px rgba(0, 0, 0, 0.3));\n",
              "      fill: #FFFFFF;\n",
              "    }\n",
              "  </style>\n",
              "\n",
              "      <script>\n",
              "        const buttonEl =\n",
              "          document.querySelector('#df-2a4fc73c-ec9c-46e9-9b1c-e9b93a4d8d90 button.colab-df-convert');\n",
              "        buttonEl.style.display =\n",
              "          google.colab.kernel.accessAllowed ? 'block' : 'none';\n",
              "\n",
              "        async function convertToInteractive(key) {\n",
              "          const element = document.querySelector('#df-2a4fc73c-ec9c-46e9-9b1c-e9b93a4d8d90');\n",
              "          const dataTable =\n",
              "            await google.colab.kernel.invokeFunction('convertToInteractive',\n",
              "                                                     [key], {});\n",
              "          if (!dataTable) return;\n",
              "\n",
              "          const docLinkHtml = 'Like what you see? Visit the ' +\n",
              "            '<a target=\"_blank\" href=https://colab.research.google.com/notebooks/data_table.ipynb>data table notebook</a>'\n",
              "            + ' to learn more about interactive tables.';\n",
              "          element.innerHTML = '';\n",
              "          dataTable['output_type'] = 'display_data';\n",
              "          await google.colab.output.renderOutput(dataTable, element);\n",
              "          const docLink = document.createElement('div');\n",
              "          docLink.innerHTML = docLinkHtml;\n",
              "          element.appendChild(docLink);\n",
              "        }\n",
              "      </script>\n",
              "    </div>\n",
              "  </div>\n",
              "  "
            ]
          },
          "metadata": {},
          "execution_count": 50
        }
      ]
    },
    {
      "cell_type": "code",
      "source": [
        "df.loc[df['Team'] != \"Did not play\"]"
      ],
      "metadata": {
        "colab": {
          "base_uri": "https://localhost:8080/",
          "height": 427
        },
        "id": "DJC5kRGkqMD6",
        "outputId": "5155b886-751f-406e-8778-455ee36c1f95"
      },
      "execution_count": 53,
      "outputs": [
        {
          "output_type": "execute_result",
          "data": {
            "text/plain": [
              "         S                        Team    League  GP  G   A  TP PIM +/-     \\\n",
              "0  2014-15  MIT (Mass. Inst. of Tech.)   ACHA II  17  3   9  12  20      |   \n",
              "1  2015-16  MIT (Mass. Inst. of Tech.)   ACHA II   9  1   1   2   2      |   \n",
              "2  2016-17  MIT (Mass. Inst. of Tech.)   ACHA II  12  5   5  10   8   0  |   \n",
              "4  2018-19  MIT (Mass. Inst. of Tech.)  ACHA III   8  5  10  15   8      |   \n",
              "\n",
              "  POST GP G A TP PIM +/-  \n",
              "0                         \n",
              "1                         \n",
              "2                         \n",
              "4                         "
            ],
            "text/html": [
              "\n",
              "  <div id=\"df-f0c86313-87ef-4816-a0f2-fa62003a8024\">\n",
              "    <div class=\"colab-df-container\">\n",
              "      <div>\n",
              "<style scoped>\n",
              "    .dataframe tbody tr th:only-of-type {\n",
              "        vertical-align: middle;\n",
              "    }\n",
              "\n",
              "    .dataframe tbody tr th {\n",
              "        vertical-align: top;\n",
              "    }\n",
              "\n",
              "    .dataframe thead th {\n",
              "        text-align: right;\n",
              "    }\n",
              "</style>\n",
              "<table border=\"1\" class=\"dataframe\">\n",
              "  <thead>\n",
              "    <tr style=\"text-align: right;\">\n",
              "      <th></th>\n",
              "      <th>S</th>\n",
              "      <th>Team</th>\n",
              "      <th>League</th>\n",
              "      <th>GP</th>\n",
              "      <th>G</th>\n",
              "      <th>A</th>\n",
              "      <th>TP</th>\n",
              "      <th>PIM</th>\n",
              "      <th>+/-</th>\n",
              "      <th></th>\n",
              "      <th>POST</th>\n",
              "      <th>GP</th>\n",
              "      <th>G</th>\n",
              "      <th>A</th>\n",
              "      <th>TP</th>\n",
              "      <th>PIM</th>\n",
              "      <th>+/-</th>\n",
              "    </tr>\n",
              "  </thead>\n",
              "  <tbody>\n",
              "    <tr>\n",
              "      <th>0</th>\n",
              "      <td>2014-15</td>\n",
              "      <td>MIT (Mass. Inst. of Tech.)</td>\n",
              "      <td>ACHA II</td>\n",
              "      <td>17</td>\n",
              "      <td>3</td>\n",
              "      <td>9</td>\n",
              "      <td>12</td>\n",
              "      <td>20</td>\n",
              "      <td></td>\n",
              "      <td>|</td>\n",
              "      <td></td>\n",
              "      <td></td>\n",
              "      <td></td>\n",
              "      <td></td>\n",
              "      <td></td>\n",
              "      <td></td>\n",
              "      <td></td>\n",
              "    </tr>\n",
              "    <tr>\n",
              "      <th>1</th>\n",
              "      <td>2015-16</td>\n",
              "      <td>MIT (Mass. Inst. of Tech.)</td>\n",
              "      <td>ACHA II</td>\n",
              "      <td>9</td>\n",
              "      <td>1</td>\n",
              "      <td>1</td>\n",
              "      <td>2</td>\n",
              "      <td>2</td>\n",
              "      <td></td>\n",
              "      <td>|</td>\n",
              "      <td></td>\n",
              "      <td></td>\n",
              "      <td></td>\n",
              "      <td></td>\n",
              "      <td></td>\n",
              "      <td></td>\n",
              "      <td></td>\n",
              "    </tr>\n",
              "    <tr>\n",
              "      <th>2</th>\n",
              "      <td>2016-17</td>\n",
              "      <td>MIT (Mass. Inst. of Tech.)</td>\n",
              "      <td>ACHA II</td>\n",
              "      <td>12</td>\n",
              "      <td>5</td>\n",
              "      <td>5</td>\n",
              "      <td>10</td>\n",
              "      <td>8</td>\n",
              "      <td>0</td>\n",
              "      <td>|</td>\n",
              "      <td></td>\n",
              "      <td></td>\n",
              "      <td></td>\n",
              "      <td></td>\n",
              "      <td></td>\n",
              "      <td></td>\n",
              "      <td></td>\n",
              "    </tr>\n",
              "    <tr>\n",
              "      <th>4</th>\n",
              "      <td>2018-19</td>\n",
              "      <td>MIT (Mass. Inst. of Tech.)</td>\n",
              "      <td>ACHA III</td>\n",
              "      <td>8</td>\n",
              "      <td>5</td>\n",
              "      <td>10</td>\n",
              "      <td>15</td>\n",
              "      <td>8</td>\n",
              "      <td></td>\n",
              "      <td>|</td>\n",
              "      <td></td>\n",
              "      <td></td>\n",
              "      <td></td>\n",
              "      <td></td>\n",
              "      <td></td>\n",
              "      <td></td>\n",
              "      <td></td>\n",
              "    </tr>\n",
              "  </tbody>\n",
              "</table>\n",
              "</div>\n",
              "      <button class=\"colab-df-convert\" onclick=\"convertToInteractive('df-f0c86313-87ef-4816-a0f2-fa62003a8024')\"\n",
              "              title=\"Convert this dataframe to an interactive table.\"\n",
              "              style=\"display:none;\">\n",
              "        \n",
              "  <svg xmlns=\"http://www.w3.org/2000/svg\" height=\"24px\"viewBox=\"0 0 24 24\"\n",
              "       width=\"24px\">\n",
              "    <path d=\"M0 0h24v24H0V0z\" fill=\"none\"/>\n",
              "    <path d=\"M18.56 5.44l.94 2.06.94-2.06 2.06-.94-2.06-.94-.94-2.06-.94 2.06-2.06.94zm-11 1L8.5 8.5l.94-2.06 2.06-.94-2.06-.94L8.5 2.5l-.94 2.06-2.06.94zm10 10l.94 2.06.94-2.06 2.06-.94-2.06-.94-.94-2.06-.94 2.06-2.06.94z\"/><path d=\"M17.41 7.96l-1.37-1.37c-.4-.4-.92-.59-1.43-.59-.52 0-1.04.2-1.43.59L10.3 9.45l-7.72 7.72c-.78.78-.78 2.05 0 2.83L4 21.41c.39.39.9.59 1.41.59.51 0 1.02-.2 1.41-.59l7.78-7.78 2.81-2.81c.8-.78.8-2.07 0-2.86zM5.41 20L4 18.59l7.72-7.72 1.47 1.35L5.41 20z\"/>\n",
              "  </svg>\n",
              "      </button>\n",
              "      \n",
              "  <style>\n",
              "    .colab-df-container {\n",
              "      display:flex;\n",
              "      flex-wrap:wrap;\n",
              "      gap: 12px;\n",
              "    }\n",
              "\n",
              "    .colab-df-convert {\n",
              "      background-color: #E8F0FE;\n",
              "      border: none;\n",
              "      border-radius: 50%;\n",
              "      cursor: pointer;\n",
              "      display: none;\n",
              "      fill: #1967D2;\n",
              "      height: 32px;\n",
              "      padding: 0 0 0 0;\n",
              "      width: 32px;\n",
              "    }\n",
              "\n",
              "    .colab-df-convert:hover {\n",
              "      background-color: #E2EBFA;\n",
              "      box-shadow: 0px 1px 2px rgba(60, 64, 67, 0.3), 0px 1px 3px 1px rgba(60, 64, 67, 0.15);\n",
              "      fill: #174EA6;\n",
              "    }\n",
              "\n",
              "    [theme=dark] .colab-df-convert {\n",
              "      background-color: #3B4455;\n",
              "      fill: #D2E3FC;\n",
              "    }\n",
              "\n",
              "    [theme=dark] .colab-df-convert:hover {\n",
              "      background-color: #434B5C;\n",
              "      box-shadow: 0px 1px 3px 1px rgba(0, 0, 0, 0.15);\n",
              "      filter: drop-shadow(0px 1px 2px rgba(0, 0, 0, 0.3));\n",
              "      fill: #FFFFFF;\n",
              "    }\n",
              "  </style>\n",
              "\n",
              "      <script>\n",
              "        const buttonEl =\n",
              "          document.querySelector('#df-f0c86313-87ef-4816-a0f2-fa62003a8024 button.colab-df-convert');\n",
              "        buttonEl.style.display =\n",
              "          google.colab.kernel.accessAllowed ? 'block' : 'none';\n",
              "\n",
              "        async function convertToInteractive(key) {\n",
              "          const element = document.querySelector('#df-f0c86313-87ef-4816-a0f2-fa62003a8024');\n",
              "          const dataTable =\n",
              "            await google.colab.kernel.invokeFunction('convertToInteractive',\n",
              "                                                     [key], {});\n",
              "          if (!dataTable) return;\n",
              "\n",
              "          const docLinkHtml = 'Like what you see? Visit the ' +\n",
              "            '<a target=\"_blank\" href=https://colab.research.google.com/notebooks/data_table.ipynb>data table notebook</a>'\n",
              "            + ' to learn more about interactive tables.';\n",
              "          element.innerHTML = '';\n",
              "          dataTable['output_type'] = 'display_data';\n",
              "          await google.colab.output.renderOutput(dataTable, element);\n",
              "          const docLink = document.createElement('div');\n",
              "          docLink.innerHTML = docLinkHtml;\n",
              "          element.appendChild(docLink);\n",
              "        }\n",
              "      </script>\n",
              "    </div>\n",
              "  </div>\n",
              "  "
            ]
          },
          "metadata": {},
          "execution_count": 53
        }
      ]
    },
    {
      "cell_type": "code",
      "source": [
        "fun=soup.select(\"ul.fun-facts li\")"
      ],
      "metadata": {
        "id": "9hhHilJirTiE"
      },
      "execution_count": 54,
      "outputs": []
    },
    {
      "cell_type": "code",
      "source": [
        "fun"
      ],
      "metadata": {
        "colab": {
          "base_uri": "https://localhost:8080/"
        },
        "id": "47Oy3ao9xxNR",
        "outputId": "bc704cb0-fae6-44d9-fb1e-354b6cbbc1f0"
      },
      "execution_count": 55,
      "outputs": [
        {
          "output_type": "execute_result",
          "data": {
            "text/plain": [
              "[<li>Owned my dream car in high school <a href=\"#footer\"><sup>1</sup></a></li>,\n",
              " <li>Middle name is Ronald</li>,\n",
              " <li>Never had been on a plane until college</li>,\n",
              " <li>Dunkin Donuts coffee is better than Starbucks</li>,\n",
              " <li>A favorite book series of mine is <i>Ender's Game</i></li>,\n",
              " <li>Current video game of choice is <i>Rocket League</i></li>,\n",
              " <li>The band that I've seen the most times live is the <i>Zac Brown Band</i></li>]"
            ]
          },
          "metadata": {},
          "execution_count": 55
        }
      ]
    },
    {
      "cell_type": "code",
      "source": [
        "import re\n",
        "fact_with_is=[fact.find(string=re.compile(\"is\")) for fact in fun]"
      ],
      "metadata": {
        "id": "iD2l5HbpxyDl"
      },
      "execution_count": 57,
      "outputs": []
    },
    {
      "cell_type": "code",
      "source": [
        "fact_with_is"
      ],
      "metadata": {
        "colab": {
          "base_uri": "https://localhost:8080/"
        },
        "id": "38Qzh0rIyan1",
        "outputId": "b1eddf7c-13ea-4731-d030-4e92d9f01ef2"
      },
      "execution_count": 58,
      "outputs": [
        {
          "output_type": "execute_result",
          "data": {
            "text/plain": [
              "[None,\n",
              " 'Middle name is Ronald',\n",
              " None,\n",
              " 'Dunkin Donuts coffee is better than Starbucks',\n",
              " 'A favorite book series of mine is ',\n",
              " 'Current video game of choice is ',\n",
              " \"The band that I've seen the most times live is the \"]"
            ]
          },
          "metadata": {},
          "execution_count": 58
        }
      ]
    },
    {
      "cell_type": "code",
      "source": [
        "facts_with_is=[fact.find_parent().get_text() for fact in fact_with_is if fact]"
      ],
      "metadata": {
        "id": "AC5S-Ktxyg7M"
      },
      "execution_count": 77,
      "outputs": []
    },
    {
      "cell_type": "code",
      "source": [
        "facts_with_is"
      ],
      "metadata": {
        "colab": {
          "base_uri": "https://localhost:8080/"
        },
        "id": "_J8QuZknzIft",
        "outputId": "cb6d5e6c-8446-4b15-b8c1-e0a3b5db681d"
      },
      "execution_count": 78,
      "outputs": [
        {
          "output_type": "execute_result",
          "data": {
            "text/plain": [
              "['Middle name is Ronald',\n",
              " 'Dunkin Donuts coffee is better than Starbucks',\n",
              " \"A favorite book series of mine is Ender's Game\",\n",
              " 'Current video game of choice is Rocket League',\n",
              " \"The band that I've seen the most times live is the Zac Brown Band\"]"
            ]
          },
          "metadata": {},
          "execution_count": 78
        }
      ]
    },
    {
      "cell_type": "code",
      "source": [],
      "metadata": {
        "id": "D8u7ozzazQ7O"
      },
      "execution_count": null,
      "outputs": []
    },
    {
      "cell_type": "markdown",
      "source": [
        "**Download** **Image**"
      ],
      "metadata": {
        "id": "PtHa7-EM4oIi"
      }
    },
    {
      "cell_type": "code",
      "source": [
        "im=soup.select(\"div.row img\")"
      ],
      "metadata": {
        "id": "o2avMGEf45pV"
      },
      "execution_count": 105,
      "outputs": []
    },
    {
      "cell_type": "code",
      "source": [
        "im"
      ],
      "metadata": {
        "id": "MHs_qu5X6GoL",
        "outputId": "3b072167-dc21-4eae-b3dc-860889880f3c",
        "colab": {
          "base_uri": "https://localhost:8080/"
        }
      },
      "execution_count": 106,
      "outputs": [
        {
          "output_type": "execute_result",
          "data": {
            "text/plain": [
              "[<img alt=\"Lake Como\" src=\"images/italy/lake_como.jpg\" style=\"height:100%\"/>,\n",
              " <img alt=\"Pontevecchio, Florence\" src=\"images/italy/pontevecchio.jpg\" style=\"height:100%\"/>,\n",
              " <img alt=\"Riomaggiore, Cinque de Terre\" src=\"images/italy/riomaggiore.jpg\" style=\"height:100%\"/>]"
            ]
          },
          "metadata": {},
          "execution_count": 106
        }
      ]
    },
    {
      "cell_type": "code",
      "source": [
        "image_url1=im[0]['alt']\n",
        "image_url1"
      ],
      "metadata": {
        "id": "k34urmls_U5p",
        "outputId": "3c101df2-3321-4c42-88b9-2f6544c2d45e",
        "colab": {
          "base_uri": "https://localhost:8080/",
          "height": 35
        }
      },
      "execution_count": 108,
      "outputs": [
        {
          "output_type": "execute_result",
          "data": {
            "text/plain": [
              "'Lake Como'"
            ],
            "application/vnd.google.colaboratory.intrinsic+json": {
              "type": "string"
            }
          },
          "metadata": {},
          "execution_count": 108
        }
      ]
    },
    {
      "cell_type": "code",
      "source": [
        "image_url=im[0]['src']"
      ],
      "metadata": {
        "id": "IsJMJhy-6HkH"
      },
      "execution_count": 117,
      "outputs": []
    },
    {
      "cell_type": "code",
      "source": [
        "image_url"
      ],
      "metadata": {
        "id": "6juL1q5m7IB6",
        "outputId": "fc9a991a-5e55-4049-94b0-76b6b42fa9d0",
        "colab": {
          "base_uri": "https://localhost:8080/",
          "height": 35
        }
      },
      "execution_count": 118,
      "outputs": [
        {
          "output_type": "execute_result",
          "data": {
            "text/plain": [
              "'images/italy/lake_como.jpg'"
            ],
            "application/vnd.google.colaboratory.intrinsic+json": {
              "type": "string"
            }
          },
          "metadata": {},
          "execution_count": 118
        }
      ]
    },
    {
      "cell_type": "code",
      "source": [
        "full_url=url+image_url"
      ],
      "metadata": {
        "id": "SmTBh1HSAFZ1"
      },
      "execution_count": 119,
      "outputs": []
    },
    {
      "cell_type": "code",
      "source": [
        "full_url"
      ],
      "metadata": {
        "id": "86s9dlQEDnr4",
        "outputId": "808089cf-03c0-4350-b0bc-e9311fad219b",
        "colab": {
          "base_uri": "https://localhost:8080/",
          "height": 35
        }
      },
      "execution_count": 120,
      "outputs": [
        {
          "output_type": "execute_result",
          "data": {
            "text/plain": [
              "'https://keithgalli.github.io/web-scraping/images/italy/lake_como.jpg'"
            ],
            "application/vnd.google.colaboratory.intrinsic+json": {
              "type": "string"
            }
          },
          "metadata": {},
          "execution_count": 120
        }
      ]
    },
    {
      "cell_type": "code",
      "source": [
        "img_data=requests.get(full_url).content\n",
        "with open('Lake_Como.jpg','wb') as handler:\n",
        "  handler.write(img_data)"
      ],
      "metadata": {
        "id": "GHtzfMFu_KRv"
      },
      "execution_count": 121,
      "outputs": []
    },
    {
      "cell_type": "code",
      "source": [
        "full_url"
      ],
      "metadata": {
        "id": "9UnjZWfK_17B",
        "outputId": "5b16bda8-d7fb-4d7e-8d29-567c191e3da3",
        "colab": {
          "base_uri": "https://localhost:8080/",
          "height": 35
        }
      },
      "execution_count": 116,
      "outputs": [
        {
          "output_type": "execute_result",
          "data": {
            "text/plain": [
              "'https://keithgalli.github.io/web-scraping/Lake Como'"
            ],
            "application/vnd.google.colaboratory.intrinsic+json": {
              "type": "string"
            }
          },
          "metadata": {},
          "execution_count": 116
        }
      ]
    },
    {
      "cell_type": "code",
      "source": [
        "files = soup.select(\"div.block a\")\n",
        "relative_files = [f['href'] for f in files]\n",
        "\n",
        "\n",
        "url = \"https://keithgalli.github.io/web-scraping/\"\n",
        "for f in relative_files:\n",
        "  full_url = url + f\n",
        "  page = requests.get(full_url)\n",
        "  bs_page = bs(page.content)\n",
        "  secret_word_element = bs_page.find(\"p\", attrs={\"id\": \"secret-word\"})\n",
        "  secret_word = secret_word_element.string\n",
        "  print(secret_word)\n"
      ],
      "metadata": {
        "id": "ajzT5W6hBx1X",
        "outputId": "a2595dc0-377e-4ec5-ebff-2c1a9ca4bdb6",
        "colab": {
          "base_uri": "https://localhost:8080/"
        }
      },
      "execution_count": 123,
      "outputs": [
        {
          "output_type": "stream",
          "name": "stdout",
          "text": [
            "Make\n",
            "sure\n",
            "to\n",
            "smash\n",
            "that\n",
            "like\n",
            "button\n",
            "and\n",
            "subscribe\n",
            "!!!\n"
          ]
        }
      ]
    },
    {
      "cell_type": "code",
      "source": [],
      "metadata": {
        "id": "jG_BdHtZeEEe"
      },
      "execution_count": null,
      "outputs": []
    }
  ]
}